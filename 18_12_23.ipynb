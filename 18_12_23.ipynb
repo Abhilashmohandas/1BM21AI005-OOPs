{
  "nbformat": 4,
  "nbformat_minor": 0,
  "metadata": {
    "colab": {
      "provenance": [],
      "authorship_tag": "ABX9TyNNiiykUVhRU/IzjL0DcvZA",
      "include_colab_link": true
    },
    "kernelspec": {
      "name": "python3",
      "display_name": "Python 3"
    },
    "language_info": {
      "name": "python"
    }
  },
  "cells": [
    {
      "cell_type": "markdown",
      "metadata": {
        "id": "view-in-github",
        "colab_type": "text"
      },
      "source": [
        "<a href=\"https://colab.research.google.com/github/Abhilashmohandas/1BM21AI005-OOPs/blob/main/18_12_23.ipynb\" target=\"_parent\"><img src=\"https://colab.research.google.com/assets/colab-badge.svg\" alt=\"Open In Colab\"/></a>"
      ]
    },
    {
      "cell_type": "code",
      "execution_count": 1,
      "metadata": {
        "id": "H-w8bJP59iZq",
        "colab": {
          "base_uri": "https://localhost:8080/"
        },
        "outputId": "f18580e2-c166-4fa3-977e-64a16b7e779f"
      },
      "outputs": [
        {
          "output_type": "stream",
          "name": "stdout",
          "text": [
            "<__main__.Student object at 0x7fa4e85c5690> is an instance of Student: True\n",
            "<__main__.Marks object at 0x7fa4e85c5e70> is an instance of Marks: True\n",
            "Student is a subclass of object: True\n",
            "Marks is a subclass of object: True\n"
          ]
        }
      ],
      "source": [
        "# write a Python program to create two empty classes, Student and Marks.\n",
        "# Now create some instances and check whether they are instances of the\n",
        "# said classes or not. Also, check whether the said classes are subclasses of\n",
        "# the built-in object class or not.\n",
        "class Student:\n",
        "    pass\n",
        "\n",
        "class Marks:\n",
        "    pass\n",
        "\n",
        "student_instance = Student()\n",
        "marks_instance = Marks()\n",
        "\n",
        "is_student_instance = isinstance(student_instance, Student)\n",
        "is_marks_instance = isinstance(marks_instance, Marks)\n",
        "\n",
        "is_student_subclass = issubclass(Student, object)\n",
        "is_marks_subclass = issubclass(Marks, object)\n",
        "\n",
        "print(f\"{student_instance} is an instance of Student: {is_student_instance}\")\n",
        "print(f\"{marks_instance} is an instance of Marks: {is_marks_instance}\")\n",
        "\n",
        "print(f\"Student is a subclass of object: {is_student_subclass}\")\n",
        "print(f\"Marks is a subclass of object: {is_marks_subclass}\")\n"
      ]
    },
    {
      "cell_type": "code",
      "source": [],
      "metadata": {
        "id": "RdD9T4bgJzGZ"
      },
      "execution_count": null,
      "outputs": []
    },
    {
      "cell_type": "code",
      "source": [
        "# Perform addition of two complex numbers using class COMPLEX.\n",
        "# COMPLEX has two class variables real_part and img_part. Constructors\n",
        "# assigns values for the respective variables. Create three objects C1, C2\n",
        "# and C3. Where is the result of adding C1 and C2.\n",
        "class COMPLEX:\n",
        "    def __init__(self, real_part, img_part):\n",
        "        self.real_part = real_part\n",
        "        self.img_part = img_part\n",
        "\n",
        "    def add(self, other_complex):\n",
        "\n",
        "        result_real = self.real_part + other_complex.real_part\n",
        "        result_img = self.img_part + other_complex.img_part\n",
        "        return COMPLEX(result_real, result_img)\n",
        "\n",
        "C1 = COMPLEX(3, 4)\n",
        "C2 = COMPLEX(1, 2)\n",
        "\n",
        "C3 = C1.add(C2)\n",
        "\n",
        "print(\"C1:\", C1.real_part, \"+\", C1.img_part, \"j\")\n",
        "print(\"C2:\", C2.real_part, \"+\", C2.img_part, \"j\")\n",
        "print(\"C3 (C1 + C2):\", C3.real_part, \"+\", C3.img_part, \"j\")\n"
      ],
      "metadata": {
        "colab": {
          "base_uri": "https://localhost:8080/"
        },
        "id": "x78_DJk6HIOa",
        "outputId": "7d3c5fdd-0591-4e7d-db0e-71fc3f15dd39"
      },
      "execution_count": 2,
      "outputs": [
        {
          "output_type": "stream",
          "name": "stdout",
          "text": [
            "C1: 3 + 4 j\n",
            "C2: 1 + 2 j\n",
            "C3 (C1 + C2): 4 + 6 j\n"
          ]
        }
      ]
    },
    {
      "cell_type": "code",
      "source": [
        "# Define a class called Songs, it will show the lyrics of a song.\n",
        "# Its __init__() method should have two arguments:self and lyrics.lyricsis a list.\n",
        "# Inside your class create a method called sing_me_a_song that prints each\n",
        "# element of lyrics on his own line. Define a varible:\n",
        "# happy_bday = Song([\"May god bless you, \",\n",
        "# \"Have a sunshine on you,\",\n",
        "# \"Happy Birthday to you !\"])\n",
        "# Call the sing_me_songmehod on this variable.\n",
        "class Songs:\n",
        "    def __init__(self, lyrics):\n",
        "        self.lyrics = lyrics\n",
        "\n",
        "    def sing_me_a_song(self):\n",
        "        for line in self.lyrics:\n",
        "            print(line)\n",
        "\n",
        "\n",
        "happy_bday = Songs([\n",
        "    \"May god bless you,\",\n",
        "    \"Have a sunshine on you,\",\n",
        "    \"Happy Birthday to you!\"\n",
        "])\n",
        "\n",
        "\n",
        "happy_bday.sing_me_a_song()\n"
      ],
      "metadata": {
        "colab": {
          "base_uri": "https://localhost:8080/"
        },
        "id": "120Nsz6XH_rK",
        "outputId": "d95b9fa6-11e2-4ea8-e3bf-70588bc49944"
      },
      "execution_count": 3,
      "outputs": [
        {
          "output_type": "stream",
          "name": "stdout",
          "text": [
            "May god bless you,\n",
            "Have a sunshine on you,\n",
            "Happy Birthday to you!\n"
          ]
        }
      ]
    },
    {
      "cell_type": "code",
      "source": [
        "# Create a class called dog having following features:\n",
        "# Class Dog\n",
        "# Attributes:\n",
        "# • Name\n",
        "# • size\n",
        "# • Breed Default: ‘Unknown’\n",
        "# • Date of birth in DD/MM/YYYY format Default: ‘Unknown’\n",
        "# Methods:\n",
        "# • Bark\n",
        "# o This should get the dog to bark (print out the word ‘woof!’)\n",
        "# • get_name\n",
        "# o This should return the dog’s name\n",
        "# • set_name\n",
        "# o This should allow the user to set an alphabetical name between 2 and\n",
        "# 30 characters.\n",
        "# o Convert the name to title case before setting\n",
        "# • dog_years\n",
        "# This should calculate a dog’s age in dog years (use 1 year = 7 dog years)\n",
        "from datetime import datetime\n",
        "\n",
        "class Dog:\n",
        "    def __init__(self, name, size, breed='Unknown', dob='Unknown'):\n",
        "        self.set_name(name)\n",
        "        self.size = size\n",
        "        self.breed = breed\n",
        "        self.set_dob(dob)\n",
        "\n",
        "    def bark(self):\n",
        "        print(\"Woof!\")\n",
        "\n",
        "    def get_name(self):\n",
        "        return self.name\n",
        "\n",
        "    def set_name(self, name):\n",
        "        if 2 <= len(name) <= 30 and name.isalpha():\n",
        "            self.name = name.title()\n",
        "        else:\n",
        "            print(\"Invalid name. Please enter an alphabetical name between 2 and 30 characters.\")\n",
        "\n",
        "    def set_dob(self, dob):\n",
        "        try:\n",
        "            datetime.strptime(dob, '%d/%m/%Y')\n",
        "            self.dob = dob\n",
        "        except ValueError:\n",
        "            print(\"Invalid date format. Please use DD/MM/YYYY.\")\n",
        "\n",
        "    def dog_years(self):\n",
        "\n",
        "        if self.dob == 'Unknown':\n",
        "            print(\"Date of birth is unknown. Cannot calculate dog years.\")\n",
        "            return None\n",
        "        else:\n",
        "            birth_date = datetime.strptime(self.dob, '%d/%m/%Y')\n",
        "            today = datetime.now()\n",
        "            age_in_years = (today - birth_date).days / 365\n",
        "            age_in_dog_years = int(age_in_years * 7)\n",
        "            return age_in_dog_years\n",
        "\n",
        "\n",
        "my_dog = Dog(name=\"Buddy\", size=\"Medium\", breed=\"Labrador\", dob=\"01/01/2010\")\n",
        "\n",
        "print(f\"Name: {my_dog.get_name()}\")\n",
        "print(f\"Size: {my_dog.size}\")\n",
        "print(f\"Breed: {my_dog.breed}\")\n",
        "print(f\"Date of Birth: {my_dog.dob}\")\n",
        "\n",
        "my_dog.bark()\n",
        "\n",
        "my_dog.set_name(\"Max\")\n",
        "\n",
        "dog_years = my_dog.dog_years()\n",
        "print(f\"{my_dog.get_name()} is approximately {dog_years} dog years old.\")\n",
        "\n"
      ],
      "metadata": {
        "colab": {
          "base_uri": "https://localhost:8080/"
        },
        "id": "Gnk0x9vGIOrx",
        "outputId": "1a80719d-a848-4bcc-a223-873fea865d5a"
      },
      "execution_count": 4,
      "outputs": [
        {
          "output_type": "stream",
          "name": "stdout",
          "text": [
            "Name: Buddy\n",
            "Size: Medium\n",
            "Breed: Labrador\n",
            "Date of Birth: 01/01/2010\n",
            "Woof!\n",
            "Max is approximately 97 dog years old.\n"
          ]
        }
      ]
    },
    {
      "cell_type": "code",
      "source": [
        "# Create an Employee class by defining employee attributes such as name\n",
        "# and salary as an instance variable and implementing behaviour using\n",
        "# work() and show() instance methods. Make salary as private variable.\n",
        "class Employee:\n",
        "    def __init__(self, name, salary):\n",
        "        self.__name = name\n",
        "        self.__salary = salary\n",
        "\n",
        "    def work(self):\n",
        "        print(f\"{self.__name} is working.\")\n",
        "\n",
        "    def show(self):\n",
        "        print(f\"Employee Name: {self.__name}\")\n",
        "        print(f\"Salary: ${self.__salary}\")\n",
        "\n",
        "employee1 = Employee(name=\"John\", salary=50000)\n",
        "\n",
        "employee1.work()\n",
        "employee1.show()\n"
      ],
      "metadata": {
        "colab": {
          "base_uri": "https://localhost:8080/"
        },
        "id": "wcT-kHIbIhJ6",
        "outputId": "c358af77-1abf-415e-b2aa-4c33faab71b0"
      },
      "execution_count": 5,
      "outputs": [
        {
          "output_type": "stream",
          "name": "stdout",
          "text": [
            "John is working.\n",
            "Employee Name: John\n",
            "Salary: $50000\n"
          ]
        }
      ]
    },
    {
      "cell_type": "code",
      "source": [
        "#  Create a class called as CreditCard, make limit variable completely private\n",
        "# to the outside of the class and balance should be accessible outside the\n",
        "# class, but not modifiable, since we don’t want external code to arbitrarily\n",
        "# modify the credit card balance. To achieve this, make a get_balance() field\n",
        "# public, however balance can only be modified via withdraw() and deposit()\n",
        "# methods that have safeguard checks in place.\n",
        "class CreditCard:\n",
        "    def __init__(self, limit):\n",
        "        self.__limit = limit\n",
        "        self.__balance = 0\n",
        "\n",
        "    def get_balance(self):\n",
        "        return self.__balance\n",
        "\n",
        "    def withdraw(self, amount):\n",
        "        if amount <= 0:\n",
        "            print(\"Withdrawal amount should be greater than zero.\")\n",
        "        elif amount > self.__balance:\n",
        "            print(\"Insufficient funds. Cannot withdraw.\")\n",
        "        else:\n",
        "            self.__balance -= amount\n",
        "            print(f\"Withdrew ${amount}. Remaining balance: ${self.__balance}\")\n",
        "\n",
        "    def deposit(self, amount):\n",
        "        if amount <= 0:\n",
        "            print(\"Deposit amount should be greater than zero.\")\n",
        "        else:\n",
        "            self.__balance += amount\n",
        "            print(f\"Deposited ${amount}. New balance: ${self.__balance}\")\n",
        "\n",
        "\n",
        "credit_card = CreditCard(limit=1000)\n",
        "\n",
        "credit_card.deposit(500)\n",
        "print(f\"Current Balance: ${credit_card.get_balance()}\")\n",
        "\n",
        "credit_card.withdraw(200)\n",
        "print(f\"Current Balance: ${credit_card.get_balance()}\")\n"
      ],
      "metadata": {
        "colab": {
          "base_uri": "https://localhost:8080/"
        },
        "id": "WQnPbZTcIn1J",
        "outputId": "be6a53f2-027b-4f6f-b333-7af7dcc29e6f"
      },
      "execution_count": 6,
      "outputs": [
        {
          "output_type": "stream",
          "name": "stdout",
          "text": [
            "Deposited $500. New balance: $500\n",
            "Current Balance: $500\n",
            "Withdrew $200. Remaining balance: $300\n",
            "Current Balance: $300\n"
          ]
        }
      ]
    }
  ]
}