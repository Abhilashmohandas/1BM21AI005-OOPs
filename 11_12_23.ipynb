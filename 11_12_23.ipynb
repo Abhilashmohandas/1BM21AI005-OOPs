{
  "nbformat": 4,
  "nbformat_minor": 0,
  "metadata": {
    "colab": {
      "provenance": [],
      "authorship_tag": "ABX9TyPvkqBldrExFAkd6koPtpjK",
      "include_colab_link": true
    },
    "kernelspec": {
      "name": "python3",
      "display_name": "Python 3"
    },
    "language_info": {
      "name": "python"
    }
  },
  "cells": [
    {
      "cell_type": "markdown",
      "metadata": {
        "id": "view-in-github",
        "colab_type": "text"
      },
      "source": [
        "<a href=\"https://colab.research.google.com/github/Abhilashmohandas/1BM21AI005-OOPs/blob/main/11_12_23.ipynb\" target=\"_parent\"><img src=\"https://colab.research.google.com/assets/colab-badge.svg\" alt=\"Open In Colab\"/></a>"
      ]
    },
    {
      "cell_type": "code",
      "source": [
        "class Rectangle:\n",
        "    def __init__(self, length, breadth):\n",
        "        self.length = length\n",
        "        self.breadth = breadth\n",
        "\n",
        "    def printobj(self):\n",
        "        return self.length, self.breadth\n",
        "\n",
        "obj = Rectangle(25, 36)\n",
        "x, y = obj.printobj()\n",
        "print(\"Length is {} and breadth is {}\".format(x, y))\n"
      ],
      "metadata": {
        "colab": {
          "base_uri": "https://localhost:8080/"
        },
        "id": "5iEX8bt97OeM",
        "outputId": "7fb32be2-cb7a-49df-cbf6-81d4f95a1787"
      },
      "execution_count": null,
      "outputs": [
        {
          "output_type": "stream",
          "name": "stdout",
          "text": [
            "Length is 25 and breadth is 36\n"
          ]
        }
      ]
    },
    {
      "cell_type": "code",
      "source": [],
      "metadata": {
        "id": "OB8Y_RlN_wEK"
      },
      "execution_count": null,
      "outputs": []
    },
    {
      "cell_type": "code",
      "source": [
        "class Dog:\n",
        "  def __init__(self,name):\n",
        "    self.name=name\n",
        "  def bark(self):\n",
        "    print(\"wolf!\")\n",
        "\n",
        "  def getname(self):\n",
        "    return self.name\n",
        "  def setname(self):\n",
        "    name1=input(\"enter name\")\n",
        "    self.name=name1\n",
        "    return self.name\n",
        "obj=Dog(\"rocky\")\n",
        "print(obj.bark())\n",
        "print(\"the name is \",obj.getname())\n",
        "print(\"the new name is \",obj.setname())\n"
      ],
      "metadata": {
        "colab": {
          "base_uri": "https://localhost:8080/"
        },
        "id": "D6CzqhO09858",
        "outputId": "6b20b81f-4369-4aea-d4e2-662fd53608fc"
      },
      "execution_count": null,
      "outputs": [
        {
          "output_type": "stream",
          "name": "stdout",
          "text": [
            "wolf!\n",
            "None\n",
            "the name is  rocky\n",
            "enter namebhavesh\n",
            "the new name is  bhavesh\n"
          ]
        }
      ]
    },
    {
      "cell_type": "code",
      "execution_count": null,
      "metadata": {
        "id": "sPhsR2qy5mM8",
        "colab": {
          "base_uri": "https://localhost:8080/"
        },
        "outputId": "537235d9-351d-464a-eb6b-9d88c9ffea4e"
      },
      "outputs": [
        {
          "output_type": "stream",
          "name": "stdout",
          "text": [
            "your age is now 51\n"
          ]
        }
      ],
      "source": [
        "class birthday:\n",
        "  def __init__(self,name,age):\n",
        "    self.name=name\n",
        "    self.age=age\n",
        "  def birthday1(self):\n",
        "    self.age+=1\n",
        "    return self.age\n",
        "obj=birthday('bhavesh',50)\n",
        "print(\"your age is now\",obj.birthday1())\n"
      ]
    },
    {
      "cell_type": "code",
      "source": [
        "#create a default constructor called student class and the default cxonstructor initializes name ,age and grade attribute,the name ,age and garde attributes initializes to default values\n",
        "class Student:\n",
        "  def __init__(self,name,age,grade):\n",
        "    self.name=name\n",
        "    self.age=age\n",
        "    self.grade=grade\n",
        "  def printobj(self):\n",
        "    return self.name,self.age,self.grade\n",
        "obj=Student(\"BHAVESH\",87,\"A\")\n",
        "x,y,z=obj.printobj()\n",
        "print(\"the name of the student is {},his age is {},his grade is {}\".format(x,y,z))"
      ],
      "metadata": {
        "colab": {
          "base_uri": "https://localhost:8080/"
        },
        "id": "k15xkiinA6ek",
        "outputId": "50dbdad4-fb67-470e-89b7-60be91732b6b"
      },
      "execution_count": null,
      "outputs": [
        {
          "output_type": "stream",
          "name": "stdout",
          "text": [
            "the name of the student is BHAVESH,his age is 87,his grade is A\n"
          ]
        }
      ]
    },
    {
      "cell_type": "code",
      "source": [
        "class Student:\n",
        "  def __init__(self,name,age,grade):\n",
        "    self.name=name\n",
        "    self.age=age\n",
        "    self.grade=grade\n",
        "  def printobj(self):\n",
        "    return self.name,self.age,self.grade\n",
        "obj=Student(\"BHAVESH\",87,\"A\")\n",
        "x,y,z=obj.printobj()\n",
        "print(\"the name of the student is {},his age is {},his grade is {}\".format(x,y,z))"
      ],
      "metadata": {
        "id": "Q4FsMDnEDJ6k"
      },
      "execution_count": null,
      "outputs": []
    },
    {
      "cell_type": "code",
      "source": [
        "class Employee:\n",
        "    def __init__(self, name, salary):\n",
        "        self.__name = name\n",
        "        self.__salary = salary\n",
        "\n",
        "    def work(self):\n",
        "        print(f\"{self.__name} is working.\")\n",
        "\n",
        "    def show(self):\n",
        "        print(f\"Employee Name: {self.__name}\")\n",
        "        print(f\"Salary: ${self.__salary:.2f}\")\n",
        "\n",
        "\n",
        "employee1 = Employee(\"BHAVESH\", 50000)\n",
        "employee1.work()\n",
        "employee1.show()\n",
        "\n"
      ],
      "metadata": {
        "colab": {
          "base_uri": "https://localhost:8080/"
        },
        "id": "4vRlqpneHOjZ",
        "outputId": "132041ca-2245-468e-e425-6479f1f14e16"
      },
      "execution_count": null,
      "outputs": [
        {
          "output_type": "stream",
          "name": "stdout",
          "text": [
            "BHAVESH is working.\n",
            "Employee Name: BHAVESH\n",
            "Salary: $50000.00\n"
          ]
        }
      ]
    },
    {
      "cell_type": "code",
      "source": [
        "class CreditCard:\n",
        "    __balance=1000\n",
        "    def __init__(self, limit):\n",
        "        self.__limit = limit\n",
        "        self.__balance = 0\n",
        "\n",
        "    def get_balance(self):\n",
        "        return self.__balance\n",
        "\n",
        "    def deposit(self, amount):\n",
        "        if amount > 0:\n",
        "            self.__balance += amount\n",
        "            print(f\"Deposit of ${amount} successful. New balance: ${self.__balance}\")\n",
        "        else:\n",
        "            print(\"Invalid deposit amount. Amount must be greater than zero.\")\n",
        "\n",
        "    def withdraw(self, amount):\n",
        "        if amount > 0:\n",
        "            if amount <= self.__balance:\n",
        "                self.__balance -= amount\n",
        "                print(f\"Withdrawal of ${amount} successful. New balance: ${self.__balance}\")\n",
        "            else:\n",
        "                print(\"Insufficient funds for withdrawal.\")\n",
        "        else:\n",
        "            print(\"Invalid withdrawal amount. Amount must be greater than zero.\")\n",
        "\n",
        "credit_card = CreditCard(limit=1000)\n",
        "\n",
        "\n",
        "print(\"Current balance:\", credit_card.get_balance())\n",
        "\n",
        "credit_card.deposit(500)\n",
        "credit_card.withdraw(200)\n",
        "credit_card.withdraw(800)\n",
        "print(credit_card._CreditCard__balance)    #private member is accessed here using NAME MANGLING"
      ],
      "metadata": {
        "colab": {
          "base_uri": "https://localhost:8080/"
        },
        "id": "LJMNimn5OZwQ",
        "outputId": "df8d9ed3-4800-42fc-c287-4681e00699e1"
      },
      "execution_count": null,
      "outputs": [
        {
          "output_type": "stream",
          "name": "stdout",
          "text": [
            "Current balance: 0\n",
            "Deposit of $500 successful. New balance: $500\n",
            "Withdrawal of $200 successful. New balance: $300\n",
            "Insufficient funds for withdrawal.\n",
            "300\n"
          ]
        }
      ]
    },
    {
      "cell_type": "code",
      "source": [
        "\n",
        "\n",
        "l1=[1,2,3]\n",
        "l2=[4,5,6]\n",
        "l3 = []\n",
        "for item1 in l1:\n",
        "    for item2 in l2:\n",
        "        add = lambda item1 , item2:item1+item2\n",
        "        l3.append(add(item1,item2))\n",
        "        l2.remove(item2)\n",
        "        break"
      ],
      "metadata": {
        "id": "-6OCUmpNOfn4"
      },
      "execution_count": null,
      "outputs": []
    }
  ]
}